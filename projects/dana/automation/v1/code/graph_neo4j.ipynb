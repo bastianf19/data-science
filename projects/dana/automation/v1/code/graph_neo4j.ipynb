{
 "cells": [
  {
   "cell_type": "markdown",
   "metadata": {},
   "source": [
    "## Create Nodes & Edges in Neo4j Graph"
   ]
  },
  {
   "cell_type": "markdown",
   "metadata": {},
   "source": [
    "### Products Node"
   ]
  },
  {
   "cell_type": "markdown",
   "metadata": {},
   "source": [
    "`LOAD CSV WITH HEADERS FROM 'file:///products.csv' AS row\n",
    "CREATE (p:Products {productID: toInteger(row.productID), productName: row.productName, category: row.category, price: toFloat(row.price)})`"
   ]
  },
  {
   "cell_type": "markdown",
   "metadata": {},
   "source": [
    "![Alt text](../graph_output/notebook_image/image-1.png)"
   ]
  },
  {
   "cell_type": "markdown",
   "metadata": {},
   "source": [
    "Cypher query above is used to load data from products.csv to the Neo4j Database with all of the column names (productID, productName, category, and price). Each of the nodes above will have all of the attributes loaded to the database."
   ]
  },
  {
   "cell_type": "markdown",
   "metadata": {},
   "source": [
    "### Users Node"
   ]
  },
  {
   "cell_type": "markdown",
   "metadata": {},
   "source": [
    "`LOAD CSV WITH HEADERS FROM 'file:///users.csv' AS row\n",
    "CREATE (u:Users {userID: toInteger(row.userID), username: row.username, registrationDate: date(row.registrationDate), location: row.location})`"
   ]
  },
  {
   "cell_type": "markdown",
   "metadata": {},
   "source": [
    "![Alt text](../graph_output/notebook_image/image.png)"
   ]
  },
  {
   "cell_type": "markdown",
   "metadata": {},
   "source": [
    "Cypher query above is used to load data from users.csv to the Neo4j Database with all of the column names (userID, userName, registrationDate, and location). Each of the nodes above will have all of the attributes loaded to the database."
   ]
  },
  {
   "cell_type": "markdown",
   "metadata": {},
   "source": [
    "### Transactions Edges - Relationship between Products node and Users node"
   ]
  },
  {
   "cell_type": "markdown",
   "metadata": {},
   "source": [
    "`LOAD CSV WITH HEADERS FROM 'file:///transactions.csv' AS row\n",
    "MATCH (p1:Users {userID: toInteger(row.userID)}), (p2:Products {productID: toInteger(row.productID)})\n",
    "CREATE (p1)-[:PURCHASED {transactionID: toInteger(row.transactionID), transactionDate: date(row.transactionDate)}]->(p2)`\n"
   ]
  },
  {
   "cell_type": "markdown",
   "metadata": {},
   "source": [
    "![Alt text](../graph_output/notebook_image/image-2.png)"
   ]
  },
  {
   "cell_type": "markdown",
   "metadata": {},
   "source": [
    "Cypher query above is used to load the transactions.csv data, containing all of the relationship between the products node and the users node. Consisting of transactionID, userID, productID, and transactionDate, this files will generate all of the edges between nodes, with all of the attributes are attached in each of the edges."
   ]
  },
  {
   "cell_type": "markdown",
   "metadata": {},
   "source": [
    "Zoomed out, all graph data"
   ]
  },
  {
   "cell_type": "markdown",
   "metadata": {},
   "source": [
    "![Alt text](../graph_output/notebook_image/image-6.png)"
   ]
  },
  {
   "cell_type": "markdown",
   "metadata": {},
   "source": [
    "The image above is the larger view of all the graph data that is being loaded to the Neo4j database."
   ]
  },
  {
   "cell_type": "markdown",
   "metadata": {},
   "source": [
    "## Basic Queries"
   ]
  },
  {
   "cell_type": "markdown",
   "metadata": {},
   "source": [
    "### Task 1: Using cypher query language, find the top 5 users who purchased the most products."
   ]
  },
  {
   "cell_type": "markdown",
   "metadata": {},
   "source": [
    "`MATCH (u:Users)-[:PURCHASED]->(p:Products)\n",
    "WITH u, COUNT(p) AS distinct_product\n",
    "RETURN u, distinct_product \n",
    "ORDER BY distinct_product DESC\n",
    "LIMIT 5`"
   ]
  },
  {
   "cell_type": "markdown",
   "metadata": {},
   "source": [
    "![Alt text](../graph_output/notebook_image/image-7.png)"
   ]
  },
  {
   "cell_type": "markdown",
   "metadata": {},
   "source": [
    "Using the cypher query above, it does find all of the users first that is purchasing the products. After that, it counts the number of products for each user, ordered it with the largest number of products, and return the top five users that have the most products purchased. From the result, it shown that from the top 5 users, 4 of them purchased the same amount of products of 9 products."
   ]
  },
  {
   "cell_type": "markdown",
   "metadata": {},
   "source": [
    "### Identify products that are often bought together"
   ]
  },
  {
   "cell_type": "markdown",
   "metadata": {},
   "source": [
    "`MATCH (p1:Products)<-[:PURCHASED]-(u:Users)-[:PURCHASED]->(p2:Products)\n",
    "WHERE p1 <> p2 AND p1.productID < p2.productID\n",
    "WITH p1, p2, COUNT(u) AS co_purchased\n",
    "ORDER BY co_purchased DESC\n",
    "RETURN p1.productName AS product_1, p2.productName AS product_2, co_purchased`"
   ]
  },
  {
   "cell_type": "markdown",
   "metadata": {},
   "source": [
    "![Alt text](image-4.png)"
   ]
  },
  {
   "cell_type": "markdown",
   "metadata": {},
   "source": [
    "Using the cypher query above, it does find all of the products that is purchased by the same users. To eliminate the duplicated products, where statement is added to filter the data, and tried to count the number of users per product-pairs. From the result, it shown that Smart Phone and Running Shoes are the most purchased products together with 38 times. The following Smart Phone and Backpack with 35 times, Coffee Maker and Laptop 34 times, etc."
   ]
  },
  {
   "cell_type": "markdown",
   "metadata": {},
   "source": [
    "### Discover users who have similar purchasing habits (bought the same set of products)."
   ]
  },
  {
   "cell_type": "markdown",
   "metadata": {},
   "source": [
    "`MATCH (u1:Users)-[:PURCHASED]->(p:Products)<-[:PURCHASED]-(u2:Users)\n",
    "WHERE u1 <> u2 AND u1.userID < u2.userID\n",
    "WITH u1, u2, COUNT(p) AS shared_products\n",
    "ORDER BY shared_products DESC\n",
    "RETURN u1.username AS user_1, u2.username AS user_2, shared_products`"
   ]
  },
  {
   "cell_type": "markdown",
   "metadata": {},
   "source": [
    "![Alt text](../graph_output/notebook_image/image-5.png)"
   ]
  },
  {
   "cell_type": "markdown",
   "metadata": {},
   "source": [
    "Using the cypher query above, it does find all of the user-pairs that purchased the same products, and calculate the number of purchased products per user-pairs. From the result, it shown that user \"daviskristen\" and user \"joelperez\" is having the most similar behavior of purchasing the same products with 16 times."
   ]
  },
  {
   "cell_type": "markdown",
   "metadata": {},
   "source": [
    "## Advanced Analysis"
   ]
  },
  {
   "cell_type": "markdown",
   "metadata": {},
   "source": [
    "###  Create a recommendation system to suggest products to users based on their purchase history"
   ]
  },
  {
   "cell_type": "markdown",
   "metadata": {},
   "source": [
    "`MATCH (u1:Users)-[:PURCHASED]->(p0:Products)\n",
    "MATCH (p1:Products)<-[:PURCHASED]-(u2:Users)-[:PURCHASED]->(p2:Products)\n",
    "WHERE p0 = p1 AND p0 <> p2\n",
    "RETURN u1.username AS username, p1.productName AS purchased_product, p2.productName AS product_recommendation`"
   ]
  },
  {
   "cell_type": "markdown",
   "metadata": {},
   "source": [
    "![Alt text](../graph_output/notebook_image/image-8.png)"
   ]
  },
  {
   "cell_type": "markdown",
   "metadata": {},
   "source": [
    "Cypher query above is used to make a simple product recommendation from the user historical purchase. The first match syntax is used to list all of the users and its purchased_products. After we get the first data, the second match syntax is used to list all of the products that usually purchased together. With this two data, the two data are joinned together with the purchased_product act as anchor products, and the product-pair is used as a recommendation for the user because it is usually purchased together."
   ]
  },
  {
   "cell_type": "markdown",
   "metadata": {},
   "source": [
    "### Identify potential ”influencer” users in the network whose purchase might influence others"
   ]
  },
  {
   "cell_type": "markdown",
   "metadata": {},
   "source": [
    "`MATCH (u1:Users)-[:PURCHASED]->(p:Products)<-[:PURCHASED]-(u2:Users)\n",
    "WHERE u1 <> u2 AND u1.userID < u2.userID\n",
    "WITH u1, COUNT(u2) AS num_interaction_user, COUNT(p) AS number_of_product\n",
    "ORDER BY num_interaction_user DESC, number_of_product DESC\n",
    "RETURN u1.username AS influential_user, num_interaction_user, number_of_product`"
   ]
  },
  {
   "cell_type": "markdown",
   "metadata": {},
   "source": [
    "![Alt text](../graph_output/notebook_image/image-9.png)"
   ]
  },
  {
   "cell_type": "markdown",
   "metadata": {},
   "source": [
    "Potential users can be identified with the number of users that is interact with and the number of products that have been purchased. With the users have similar purchasing behavior, this potential users will be become an influencer because it have a lot of users that have similar behavior to them. In addition, with a lot of purchased products thats also being purchased by the other users makes the potential users really an Influencer to the others."
   ]
  }
 ],
 "metadata": {
  "kernelspec": {
   "display_name": "base",
   "language": "python",
   "name": "python3"
  },
  "language_info": {
   "codemirror_mode": {
    "name": "ipython",
    "version": 3
   },
   "file_extension": ".py",
   "mimetype": "text/x-python",
   "name": "python",
   "nbconvert_exporter": "python",
   "pygments_lexer": "ipython3",
   "version": "3.11.4"
  },
  "orig_nbformat": 4
 },
 "nbformat": 4,
 "nbformat_minor": 2
}
