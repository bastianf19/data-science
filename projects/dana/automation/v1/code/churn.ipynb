{
 "cells": [
  {
   "cell_type": "markdown",
   "metadata": {},
   "source": [
    "## Import Library"
   ]
  },
  {
   "cell_type": "code",
   "execution_count": 1,
   "metadata": {},
   "outputs": [],
   "source": [
    "import pandas as pd\n",
    "import numpy as np\n",
    "from sklearn.model_selection import train_test_split\n",
    "from catboost import CatBoostClassifier\n",
    "import matplotlib.pyplot as plt\n",
    "from sklearn.metrics import accuracy_score, confusion_matrix, classification_report, roc_curve, roc_auc_score"
   ]
  },
  {
   "cell_type": "markdown",
   "metadata": {},
   "source": [
    "## Load Data"
   ]
  },
  {
   "cell_type": "code",
   "execution_count": 2,
   "metadata": {},
   "outputs": [
    {
     "data": {
      "text/html": [
       "<div>\n",
       "<style scoped>\n",
       "    .dataframe tbody tr th:only-of-type {\n",
       "        vertical-align: middle;\n",
       "    }\n",
       "\n",
       "    .dataframe tbody tr th {\n",
       "        vertical-align: top;\n",
       "    }\n",
       "\n",
       "    .dataframe thead th {\n",
       "        text-align: right;\n",
       "    }\n",
       "</style>\n",
       "<table border=\"1\" class=\"dataframe\">\n",
       "  <thead>\n",
       "    <tr style=\"text-align: right;\">\n",
       "      <th></th>\n",
       "      <th>user_id</th>\n",
       "      <th>merchant_id</th>\n",
       "      <th>order_amount</th>\n",
       "      <th>order_id</th>\n",
       "      <th>promo_amount</th>\n",
       "      <th>promo_type</th>\n",
       "      <th>created_time</th>\n",
       "    </tr>\n",
       "  </thead>\n",
       "  <tbody>\n",
       "    <tr>\n",
       "      <th>0</th>\n",
       "      <td>5016427010</td>\n",
       "      <td>1496726697</td>\n",
       "      <td>4000</td>\n",
       "      <td>100166017603254865</td>\n",
       "      <td>NaN</td>\n",
       "      <td>NaN</td>\n",
       "      <td>2018-11-01 12:59:05</td>\n",
       "    </tr>\n",
       "    <tr>\n",
       "      <th>1</th>\n",
       "      <td>5771584023</td>\n",
       "      <td>2893853168</td>\n",
       "      <td>78800</td>\n",
       "      <td>100166024803283018</td>\n",
       "      <td>NaN</td>\n",
       "      <td>NaN</td>\n",
       "      <td>2018-11-01 18:42:51</td>\n",
       "    </tr>\n",
       "    <tr>\n",
       "      <th>2</th>\n",
       "      <td>5959659075</td>\n",
       "      <td>1496726697</td>\n",
       "      <td>8060</td>\n",
       "      <td>100166071803218287</td>\n",
       "      <td>NaN</td>\n",
       "      <td>NaN</td>\n",
       "      <td>2018-11-01 21:46:25</td>\n",
       "    </tr>\n",
       "  </tbody>\n",
       "</table>\n",
       "</div>"
      ],
      "text/plain": [
       "      user_id  merchant_id  order_amount            order_id  promo_amount  \\\n",
       "0  5016427010   1496726697          4000  100166017603254865           NaN   \n",
       "1  5771584023   2893853168         78800  100166024803283018           NaN   \n",
       "2  5959659075   1496726697          8060  100166071803218287           NaN   \n",
       "\n",
       "  promo_type         created_time  \n",
       "0        NaN  2018-11-01 12:59:05  \n",
       "1        NaN  2018-11-01 18:42:51  \n",
       "2        NaN  2018-11-01 21:46:25  "
      ]
     },
     "execution_count": 2,
     "metadata": {},
     "output_type": "execute_result"
    }
   ],
   "source": [
    "# order\n",
    "df_order = pd.read_csv('../data/churn_prediction/order_data.csv')\n",
    "df_order.head(3)"
   ]
  },
  {
   "cell_type": "code",
   "execution_count": 3,
   "metadata": {},
   "outputs": [
    {
     "data": {
      "text/html": [
       "<div>\n",
       "<style scoped>\n",
       "    .dataframe tbody tr th:only-of-type {\n",
       "        vertical-align: middle;\n",
       "    }\n",
       "\n",
       "    .dataframe tbody tr th {\n",
       "        vertical-align: top;\n",
       "    }\n",
       "\n",
       "    .dataframe thead th {\n",
       "        text-align: right;\n",
       "    }\n",
       "</style>\n",
       "<table border=\"1\" class=\"dataframe\">\n",
       "  <thead>\n",
       "    <tr style=\"text-align: right;\">\n",
       "      <th></th>\n",
       "      <th>user_id</th>\n",
       "      <th>is_premium_user</th>\n",
       "    </tr>\n",
       "  </thead>\n",
       "  <tbody>\n",
       "    <tr>\n",
       "      <th>0</th>\n",
       "      <td>3057801831</td>\n",
       "      <td>0</td>\n",
       "    </tr>\n",
       "    <tr>\n",
       "      <th>1</th>\n",
       "      <td>3730229972</td>\n",
       "      <td>1</td>\n",
       "    </tr>\n",
       "    <tr>\n",
       "      <th>2</th>\n",
       "      <td>3805363374</td>\n",
       "      <td>1</td>\n",
       "    </tr>\n",
       "  </tbody>\n",
       "</table>\n",
       "</div>"
      ],
      "text/plain": [
       "      user_id  is_premium_user\n",
       "0  3057801831                0\n",
       "1  3730229972                1\n",
       "2  3805363374                1"
      ]
     },
     "execution_count": 3,
     "metadata": {},
     "output_type": "execute_result"
    }
   ],
   "source": [
    "# user\n",
    "df_user = pd.read_csv('../data/churn_prediction/user_data.csv')\n",
    "df_user.head(3)"
   ]
  },
  {
   "cell_type": "code",
   "execution_count": 4,
   "metadata": {},
   "outputs": [
    {
     "data": {
      "text/html": [
       "<div>\n",
       "<style scoped>\n",
       "    .dataframe tbody tr th:only-of-type {\n",
       "        vertical-align: middle;\n",
       "    }\n",
       "\n",
       "    .dataframe tbody tr th {\n",
       "        vertical-align: top;\n",
       "    }\n",
       "\n",
       "    .dataframe thead th {\n",
       "        text-align: right;\n",
       "    }\n",
       "</style>\n",
       "<table border=\"1\" class=\"dataframe\">\n",
       "  <thead>\n",
       "    <tr style=\"text-align: right;\">\n",
       "      <th></th>\n",
       "      <th>user_id</th>\n",
       "      <th>last_trx_date</th>\n",
       "    </tr>\n",
       "  </thead>\n",
       "  <tbody>\n",
       "    <tr>\n",
       "      <th>0</th>\n",
       "      <td>3057937196</td>\n",
       "      <td>2019-02-20</td>\n",
       "    </tr>\n",
       "    <tr>\n",
       "      <th>1</th>\n",
       "      <td>3725777565</td>\n",
       "      <td>2019-02-28</td>\n",
       "    </tr>\n",
       "    <tr>\n",
       "      <th>2</th>\n",
       "      <td>3850602392</td>\n",
       "      <td>2019-02-26</td>\n",
       "    </tr>\n",
       "  </tbody>\n",
       "</table>\n",
       "</div>"
      ],
      "text/plain": [
       "      user_id last_trx_date\n",
       "0  3057937196    2019-02-20\n",
       "1  3725777565    2019-02-28\n",
       "2  3850602392    2019-02-26"
      ]
     },
     "execution_count": 4,
     "metadata": {},
     "output_type": "execute_result"
    }
   ],
   "source": [
    "# test_data\n",
    "df_test = pd.read_csv('../data/churn_prediction/test_data.csv')\n",
    "df_test.head(3)"
   ]
  },
  {
   "cell_type": "markdown",
   "metadata": {},
   "source": [
    "## Preprocessing"
   ]
  },
  {
   "cell_type": "markdown",
   "metadata": {},
   "source": [
    "### Cleaning"
   ]
  },
  {
   "cell_type": "markdown",
   "metadata": {},
   "source": [
    "#### Order Table"
   ]
  },
  {
   "cell_type": "code",
   "execution_count": 5,
   "metadata": {},
   "outputs": [
    {
     "name": "stdout",
     "output_type": "stream",
     "text": [
      "<class 'pandas.core.frame.DataFrame'>\n",
      "RangeIndex: 134128 entries, 0 to 134127\n",
      "Data columns (total 7 columns):\n",
      " #   Column        Non-Null Count   Dtype  \n",
      "---  ------        --------------   -----  \n",
      " 0   user_id       134128 non-null  int64  \n",
      " 1   merchant_id   134128 non-null  int64  \n",
      " 2   order_amount  134128 non-null  int64  \n",
      " 3   order_id      134128 non-null  int64  \n",
      " 4   promo_amount  2105 non-null    float64\n",
      " 5   promo_type    2105 non-null    object \n",
      " 6   created_time  134128 non-null  object \n",
      "dtypes: float64(1), int64(4), object(2)\n",
      "memory usage: 7.2+ MB\n"
     ]
    }
   ],
   "source": [
    "df_order.info()"
   ]
  },
  {
   "cell_type": "code",
   "execution_count": 6,
   "metadata": {},
   "outputs": [
    {
     "name": "stdout",
     "output_type": "stream",
     "text": [
      "<class 'pandas.core.frame.DataFrame'>\n",
      "RangeIndex: 134128 entries, 0 to 134127\n",
      "Data columns (total 7 columns):\n",
      " #   Column        Non-Null Count   Dtype         \n",
      "---  ------        --------------   -----         \n",
      " 0   user_id       134128 non-null  int64         \n",
      " 1   merchant_id   134128 non-null  object        \n",
      " 2   order_amount  134128 non-null  int64         \n",
      " 3   order_id      134128 non-null  object        \n",
      " 4   promo_amount  2105 non-null    float64       \n",
      " 5   promo_type    2105 non-null    object        \n",
      " 6   created_time  134128 non-null  datetime64[ns]\n",
      "dtypes: datetime64[ns](1), float64(1), int64(2), object(3)\n",
      "memory usage: 7.2+ MB\n"
     ]
    }
   ],
   "source": [
    "# replace order_id and merchant_id as numerical string, created_time as date\n",
    "df_order['order_id'] = df_order['order_id'].astype(str)\n",
    "df_order['merchant_id'] = df_order['merchant_id'].astype(str)\n",
    "df_order['created_time'] = pd.to_datetime(df_order['created_time'])\n",
    "df_order.info()"
   ]
  },
  {
   "cell_type": "code",
   "execution_count": 7,
   "metadata": {},
   "outputs": [
    {
     "data": {
      "text/plain": [
       "user_id              0\n",
       "merchant_id          0\n",
       "order_amount         0\n",
       "order_id             0\n",
       "promo_amount    132023\n",
       "promo_type      132023\n",
       "created_time         0\n",
       "dtype: int64"
      ]
     },
     "execution_count": 7,
     "metadata": {},
     "output_type": "execute_result"
    }
   ],
   "source": [
    "df_order.isna().sum()"
   ]
  },
  {
   "cell_type": "markdown",
   "metadata": {},
   "source": [
    "since in order table there is a lot of null in promo column, I'll replaced the nulls with 0 & no_promo for the promo_amount and promo_type respectively."
   ]
  },
  {
   "cell_type": "code",
   "execution_count": 8,
   "metadata": {},
   "outputs": [
    {
     "data": {
      "text/plain": [
       "user_id         0\n",
       "merchant_id     0\n",
       "order_amount    0\n",
       "order_id        0\n",
       "promo_amount    0\n",
       "promo_type      0\n",
       "created_time    0\n",
       "dtype: int64"
      ]
     },
     "execution_count": 8,
     "metadata": {},
     "output_type": "execute_result"
    }
   ],
   "source": [
    "# fill nulls for promo_amount & promo_type\n",
    "df_order['promo_amount'].fillna(0, inplace=True)\n",
    "df_order['promo_type'].fillna(\"NO_PROMO\", inplace=True)\n",
    "\n",
    "df_order['promo_type'] = df_order['promo_type'].astype(str)\n",
    "df_order['promo_amount'] = df_order['promo_amount'].astype(int)\n",
    "df_order.isna().sum()"
   ]
  },
  {
   "cell_type": "markdown",
   "metadata": {},
   "source": [
    "#### User Table"
   ]
  },
  {
   "cell_type": "code",
   "execution_count": 9,
   "metadata": {},
   "outputs": [
    {
     "name": "stdout",
     "output_type": "stream",
     "text": [
      "<class 'pandas.core.frame.DataFrame'>\n",
      "RangeIndex: 1200 entries, 0 to 1199\n",
      "Data columns (total 2 columns):\n",
      " #   Column           Non-Null Count  Dtype\n",
      "---  ------           --------------  -----\n",
      " 0   user_id          1200 non-null   int64\n",
      " 1   is_premium_user  1200 non-null   int64\n",
      "dtypes: int64(2)\n",
      "memory usage: 18.9 KB\n"
     ]
    }
   ],
   "source": [
    "df_user.info()"
   ]
  },
  {
   "cell_type": "code",
   "execution_count": 10,
   "metadata": {},
   "outputs": [
    {
     "data": {
      "text/plain": [
       "user_id            0\n",
       "is_premium_user    0\n",
       "dtype: int64"
      ]
     },
     "execution_count": 10,
     "metadata": {},
     "output_type": "execute_result"
    }
   ],
   "source": [
    "df_user.isna().sum()"
   ]
  },
  {
   "cell_type": "markdown",
   "metadata": {},
   "source": [
    "#### Test Data"
   ]
  },
  {
   "cell_type": "code",
   "execution_count": 11,
   "metadata": {},
   "outputs": [
    {
     "name": "stdout",
     "output_type": "stream",
     "text": [
      "<class 'pandas.core.frame.DataFrame'>\n",
      "RangeIndex: 1176 entries, 0 to 1175\n",
      "Data columns (total 2 columns):\n",
      " #   Column         Non-Null Count  Dtype \n",
      "---  ------         --------------  ----- \n",
      " 0   user_id        1176 non-null   int64 \n",
      " 1   last_trx_date  1176 non-null   object\n",
      "dtypes: int64(1), object(1)\n",
      "memory usage: 18.5+ KB\n"
     ]
    }
   ],
   "source": [
    "df_test.info()"
   ]
  },
  {
   "cell_type": "code",
   "execution_count": 12,
   "metadata": {},
   "outputs": [
    {
     "data": {
      "text/plain": [
       "user_id          0\n",
       "last_trx_date    0\n",
       "dtype: int64"
      ]
     },
     "execution_count": 12,
     "metadata": {},
     "output_type": "execute_result"
    }
   ],
   "source": [
    "df_test.isna().sum()"
   ]
  },
  {
   "cell_type": "code",
   "execution_count": 13,
   "metadata": {},
   "outputs": [
    {
     "name": "stdout",
     "output_type": "stream",
     "text": [
      "<class 'pandas.core.frame.DataFrame'>\n",
      "RangeIndex: 1176 entries, 0 to 1175\n",
      "Data columns (total 2 columns):\n",
      " #   Column         Non-Null Count  Dtype         \n",
      "---  ------         --------------  -----         \n",
      " 0   user_id        1176 non-null   int64         \n",
      " 1   last_trx_date  1176 non-null   datetime64[ns]\n",
      "dtypes: datetime64[ns](1), int64(1)\n",
      "memory usage: 18.5 KB\n"
     ]
    }
   ],
   "source": [
    "# convert last_trx_date to datetime\n",
    "df_test['last_trx_date'] = pd.to_datetime(df_test['last_trx_date'])\n",
    "df_test.info()"
   ]
  },
  {
   "cell_type": "markdown",
   "metadata": {},
   "source": [
    "#### Exploratory Data Analysis"
   ]
  },
  {
   "cell_type": "code",
   "execution_count": 14,
   "metadata": {},
   "outputs": [
    {
     "data": {
      "text/html": [
       "<div>\n",
       "<style scoped>\n",
       "    .dataframe tbody tr th:only-of-type {\n",
       "        vertical-align: middle;\n",
       "    }\n",
       "\n",
       "    .dataframe tbody tr th {\n",
       "        vertical-align: top;\n",
       "    }\n",
       "\n",
       "    .dataframe thead th {\n",
       "        text-align: right;\n",
       "    }\n",
       "</style>\n",
       "<table border=\"1\" class=\"dataframe\">\n",
       "  <thead>\n",
       "    <tr style=\"text-align: right;\">\n",
       "      <th></th>\n",
       "      <th>user_id</th>\n",
       "      <th>is_premium_user</th>\n",
       "    </tr>\n",
       "  </thead>\n",
       "  <tbody>\n",
       "    <tr>\n",
       "      <th>count</th>\n",
       "      <td>1.200000e+03</td>\n",
       "      <td>1200.000000</td>\n",
       "    </tr>\n",
       "    <tr>\n",
       "      <th>mean</th>\n",
       "      <td>4.748249e+09</td>\n",
       "      <td>0.695833</td>\n",
       "    </tr>\n",
       "    <tr>\n",
       "      <th>std</th>\n",
       "      <td>8.003050e+08</td>\n",
       "      <td>0.460245</td>\n",
       "    </tr>\n",
       "    <tr>\n",
       "      <th>min</th>\n",
       "      <td>2.690924e+09</td>\n",
       "      <td>0.000000</td>\n",
       "    </tr>\n",
       "    <tr>\n",
       "      <th>25%</th>\n",
       "      <td>4.058984e+09</td>\n",
       "      <td>0.000000</td>\n",
       "    </tr>\n",
       "    <tr>\n",
       "      <th>50%</th>\n",
       "      <td>4.811390e+09</td>\n",
       "      <td>1.000000</td>\n",
       "    </tr>\n",
       "    <tr>\n",
       "      <th>75%</th>\n",
       "      <td>5.331322e+09</td>\n",
       "      <td>1.000000</td>\n",
       "    </tr>\n",
       "    <tr>\n",
       "      <th>max</th>\n",
       "      <td>6.005080e+09</td>\n",
       "      <td>1.000000</td>\n",
       "    </tr>\n",
       "  </tbody>\n",
       "</table>\n",
       "</div>"
      ],
      "text/plain": [
       "            user_id  is_premium_user\n",
       "count  1.200000e+03      1200.000000\n",
       "mean   4.748249e+09         0.695833\n",
       "std    8.003050e+08         0.460245\n",
       "min    2.690924e+09         0.000000\n",
       "25%    4.058984e+09         0.000000\n",
       "50%    4.811390e+09         1.000000\n",
       "75%    5.331322e+09         1.000000\n",
       "max    6.005080e+09         1.000000"
      ]
     },
     "execution_count": 14,
     "metadata": {},
     "output_type": "execute_result"
    }
   ],
   "source": [
    "# user table summary\n",
    "df_user.describe()"
   ]
  },
  {
   "cell_type": "code",
   "execution_count": 15,
   "metadata": {},
   "outputs": [
    {
     "data": {
      "text/html": [
       "<div>\n",
       "<style scoped>\n",
       "    .dataframe tbody tr th:only-of-type {\n",
       "        vertical-align: middle;\n",
       "    }\n",
       "\n",
       "    .dataframe tbody tr th {\n",
       "        vertical-align: top;\n",
       "    }\n",
       "\n",
       "    .dataframe thead th {\n",
       "        text-align: right;\n",
       "    }\n",
       "</style>\n",
       "<table border=\"1\" class=\"dataframe\">\n",
       "  <thead>\n",
       "    <tr style=\"text-align: right;\">\n",
       "      <th></th>\n",
       "      <th>user_id</th>\n",
       "      <th>order_amount</th>\n",
       "      <th>promo_amount</th>\n",
       "    </tr>\n",
       "  </thead>\n",
       "  <tbody>\n",
       "    <tr>\n",
       "      <th>count</th>\n",
       "      <td>1.341280e+05</td>\n",
       "      <td>1.341280e+05</td>\n",
       "      <td>134128.000000</td>\n",
       "    </tr>\n",
       "    <tr>\n",
       "      <th>mean</th>\n",
       "      <td>5.008382e+09</td>\n",
       "      <td>9.417106e+03</td>\n",
       "      <td>100.319911</td>\n",
       "    </tr>\n",
       "    <tr>\n",
       "      <th>std</th>\n",
       "      <td>7.709136e+08</td>\n",
       "      <td>5.295510e+04</td>\n",
       "      <td>1110.032416</td>\n",
       "    </tr>\n",
       "    <tr>\n",
       "      <th>min</th>\n",
       "      <td>2.690924e+09</td>\n",
       "      <td>0.000000e+00</td>\n",
       "      <td>0.000000</td>\n",
       "    </tr>\n",
       "    <tr>\n",
       "      <th>25%</th>\n",
       "      <td>4.456548e+09</td>\n",
       "      <td>4.800000e+03</td>\n",
       "      <td>0.000000</td>\n",
       "    </tr>\n",
       "    <tr>\n",
       "      <th>50%</th>\n",
       "      <td>5.122703e+09</td>\n",
       "      <td>4.800000e+03</td>\n",
       "      <td>0.000000</td>\n",
       "    </tr>\n",
       "    <tr>\n",
       "      <th>75%</th>\n",
       "      <td>5.697888e+09</td>\n",
       "      <td>4.800000e+03</td>\n",
       "      <td>0.000000</td>\n",
       "    </tr>\n",
       "    <tr>\n",
       "      <th>max</th>\n",
       "      <td>6.005080e+09</td>\n",
       "      <td>2.884400e+06</td>\n",
       "      <td>59995.000000</td>\n",
       "    </tr>\n",
       "  </tbody>\n",
       "</table>\n",
       "</div>"
      ],
      "text/plain": [
       "            user_id  order_amount   promo_amount\n",
       "count  1.341280e+05  1.341280e+05  134128.000000\n",
       "mean   5.008382e+09  9.417106e+03     100.319911\n",
       "std    7.709136e+08  5.295510e+04    1110.032416\n",
       "min    2.690924e+09  0.000000e+00       0.000000\n",
       "25%    4.456548e+09  4.800000e+03       0.000000\n",
       "50%    5.122703e+09  4.800000e+03       0.000000\n",
       "75%    5.697888e+09  4.800000e+03       0.000000\n",
       "max    6.005080e+09  2.884400e+06   59995.000000"
      ]
     },
     "execution_count": 15,
     "metadata": {},
     "output_type": "execute_result"
    }
   ],
   "source": [
    "# order table summary\n",
    "df_order.describe()"
   ]
  },
  {
   "cell_type": "code",
   "execution_count": 16,
   "metadata": {},
   "outputs": [
    {
     "name": "stdout",
     "output_type": "stream",
     "text": [
      "Premium User Counts:\n",
      "1    835\n",
      "0    365\n",
      "Name: is_premium_user, dtype: int64\n"
     ]
    }
   ],
   "source": [
    "# is_premium_user distribution\n",
    "is_premium_counts = df_user['is_premium_user'].value_counts()\n",
    "print(f\"Premium User Counts:\\n{is_premium_counts}\")"
   ]
  },
  {
   "cell_type": "markdown",
   "metadata": {},
   "source": [
    "## Generate Train Data"
   ]
  },
  {
   "cell_type": "code",
   "execution_count": 17,
   "metadata": {},
   "outputs": [
    {
     "data": {
      "text/html": [
       "<div>\n",
       "<style scoped>\n",
       "    .dataframe tbody tr th:only-of-type {\n",
       "        vertical-align: middle;\n",
       "    }\n",
       "\n",
       "    .dataframe tbody tr th {\n",
       "        vertical-align: top;\n",
       "    }\n",
       "\n",
       "    .dataframe thead th {\n",
       "        text-align: right;\n",
       "    }\n",
       "</style>\n",
       "<table border=\"1\" class=\"dataframe\">\n",
       "  <thead>\n",
       "    <tr style=\"text-align: right;\">\n",
       "      <th></th>\n",
       "      <th>user_id</th>\n",
       "      <th>merchant_id</th>\n",
       "      <th>order_amount</th>\n",
       "      <th>order_id</th>\n",
       "      <th>promo_amount</th>\n",
       "      <th>promo_type</th>\n",
       "      <th>created_time</th>\n",
       "      <th>is_premium_user</th>\n",
       "    </tr>\n",
       "  </thead>\n",
       "  <tbody>\n",
       "    <tr>\n",
       "      <th>0</th>\n",
       "      <td>5016427010</td>\n",
       "      <td>1496726697</td>\n",
       "      <td>4000</td>\n",
       "      <td>100166017603254865</td>\n",
       "      <td>0</td>\n",
       "      <td>NO_PROMO</td>\n",
       "      <td>2018-11-01 12:59:05</td>\n",
       "      <td>1</td>\n",
       "    </tr>\n",
       "    <tr>\n",
       "      <th>1</th>\n",
       "      <td>5016427010</td>\n",
       "      <td>1496726697</td>\n",
       "      <td>2360</td>\n",
       "      <td>100166016103392474</td>\n",
       "      <td>0</td>\n",
       "      <td>NO_PROMO</td>\n",
       "      <td>2018-11-09 10:13:21</td>\n",
       "      <td>1</td>\n",
       "    </tr>\n",
       "  </tbody>\n",
       "</table>\n",
       "</div>"
      ],
      "text/plain": [
       "      user_id merchant_id  order_amount            order_id  promo_amount  \\\n",
       "0  5016427010  1496726697          4000  100166017603254865             0   \n",
       "1  5016427010  1496726697          2360  100166016103392474             0   \n",
       "\n",
       "  promo_type        created_time  is_premium_user  \n",
       "0   NO_PROMO 2018-11-01 12:59:05                1  \n",
       "1   NO_PROMO 2018-11-09 10:13:21                1  "
      ]
     },
     "execution_count": 17,
     "metadata": {},
     "output_type": "execute_result"
    }
   ],
   "source": [
    "df_train = df_order.merge(df_user, on=\"user_id\", how=\"inner\")\n",
    "df_train = df_train[df_train['created_time'] < pd.to_datetime('2019-01-31')]\n",
    "df_train.head(2)"
   ]
  },
  {
   "cell_type": "code",
   "execution_count": 18,
   "metadata": {},
   "outputs": [],
   "source": [
    "# Set the attrition cutoff date to January 11th, 2019 (20 Days before last date)\n",
    "attrition_cutoff_date = pd.to_datetime('2019-01-11')\n",
    "\n",
    "# Create churn labels\n",
    "df_train['last_trx_date'] = df_train.groupby('user_id')['created_time'].transform('max')\n",
    "df_train['churn'] = (df_train['last_trx_date'] < attrition_cutoff_date)\n",
    "\n",
    "# Convert boolean churn labels to 1 (churned) and 0 (not churned)\n",
    "df_train['churn'] = df_train['churn'].astype(int)"
   ]
  },
  {
   "cell_type": "code",
   "execution_count": 19,
   "metadata": {},
   "outputs": [
    {
     "data": {
      "text/html": [
       "<div>\n",
       "<style scoped>\n",
       "    .dataframe tbody tr th:only-of-type {\n",
       "        vertical-align: middle;\n",
       "    }\n",
       "\n",
       "    .dataframe tbody tr th {\n",
       "        vertical-align: top;\n",
       "    }\n",
       "\n",
       "    .dataframe thead th {\n",
       "        text-align: right;\n",
       "    }\n",
       "</style>\n",
       "<table border=\"1\" class=\"dataframe\">\n",
       "  <thead>\n",
       "    <tr style=\"text-align: right;\">\n",
       "      <th></th>\n",
       "      <th>user_id</th>\n",
       "      <th>merchant_id</th>\n",
       "      <th>order_amount</th>\n",
       "      <th>order_id</th>\n",
       "      <th>promo_amount</th>\n",
       "      <th>promo_type</th>\n",
       "      <th>created_time</th>\n",
       "      <th>is_premium_user</th>\n",
       "      <th>last_trx_date</th>\n",
       "    </tr>\n",
       "  </thead>\n",
       "  <tbody>\n",
       "    <tr>\n",
       "      <th>0</th>\n",
       "      <td>5016427010</td>\n",
       "      <td>1496726697</td>\n",
       "      <td>4000</td>\n",
       "      <td>100166017603254865</td>\n",
       "      <td>0</td>\n",
       "      <td>NO_PROMO</td>\n",
       "      <td>2018-11-01 12:59:05</td>\n",
       "      <td>1</td>\n",
       "      <td>2018-12-11 13:24:04</td>\n",
       "    </tr>\n",
       "    <tr>\n",
       "      <th>1</th>\n",
       "      <td>5016427010</td>\n",
       "      <td>1496726697</td>\n",
       "      <td>2360</td>\n",
       "      <td>100166016103392474</td>\n",
       "      <td>0</td>\n",
       "      <td>NO_PROMO</td>\n",
       "      <td>2018-11-09 10:13:21</td>\n",
       "      <td>1</td>\n",
       "      <td>2018-12-11 13:24:04</td>\n",
       "    </tr>\n",
       "  </tbody>\n",
       "</table>\n",
       "</div>"
      ],
      "text/plain": [
       "      user_id merchant_id  order_amount            order_id  promo_amount  \\\n",
       "0  5016427010  1496726697          4000  100166017603254865             0   \n",
       "1  5016427010  1496726697          2360  100166016103392474             0   \n",
       "\n",
       "  promo_type        created_time  is_premium_user       last_trx_date  \n",
       "0   NO_PROMO 2018-11-01 12:59:05                1 2018-12-11 13:24:04  \n",
       "1   NO_PROMO 2018-11-09 10:13:21                1 2018-12-11 13:24:04  "
      ]
     },
     "execution_count": 19,
     "metadata": {},
     "output_type": "execute_result"
    }
   ],
   "source": [
    "y_label = df_train['churn']\n",
    "X_data = df_train.drop(columns=['churn'])\n",
    "X_data.head(2)"
   ]
  },
  {
   "cell_type": "markdown",
   "metadata": {},
   "source": [
    "### Generate Test Data"
   ]
  },
  {
   "cell_type": "code",
   "execution_count": 20,
   "metadata": {},
   "outputs": [
    {
     "data": {
      "text/html": [
       "<div>\n",
       "<style scoped>\n",
       "    .dataframe tbody tr th:only-of-type {\n",
       "        vertical-align: middle;\n",
       "    }\n",
       "\n",
       "    .dataframe tbody tr th {\n",
       "        vertical-align: top;\n",
       "    }\n",
       "\n",
       "    .dataframe thead th {\n",
       "        text-align: right;\n",
       "    }\n",
       "</style>\n",
       "<table border=\"1\" class=\"dataframe\">\n",
       "  <thead>\n",
       "    <tr style=\"text-align: right;\">\n",
       "      <th></th>\n",
       "      <th>user_id</th>\n",
       "      <th>merchant_id</th>\n",
       "      <th>order_amount</th>\n",
       "      <th>order_id</th>\n",
       "      <th>promo_amount</th>\n",
       "      <th>promo_type</th>\n",
       "      <th>created_time</th>\n",
       "      <th>is_premium_user</th>\n",
       "      <th>last_trx_date</th>\n",
       "    </tr>\n",
       "  </thead>\n",
       "  <tbody>\n",
       "    <tr>\n",
       "      <th>0</th>\n",
       "      <td>5016427010</td>\n",
       "      <td>1496726697</td>\n",
       "      <td>4000</td>\n",
       "      <td>100166017603254865</td>\n",
       "      <td>0</td>\n",
       "      <td>NO_PROMO</td>\n",
       "      <td>2018-11-01 12:59:05</td>\n",
       "      <td>1</td>\n",
       "      <td>2019-02-28</td>\n",
       "    </tr>\n",
       "    <tr>\n",
       "      <th>1</th>\n",
       "      <td>5016427010</td>\n",
       "      <td>1496726697</td>\n",
       "      <td>2360</td>\n",
       "      <td>100166016103392474</td>\n",
       "      <td>0</td>\n",
       "      <td>NO_PROMO</td>\n",
       "      <td>2018-11-09 10:13:21</td>\n",
       "      <td>1</td>\n",
       "      <td>2019-02-28</td>\n",
       "    </tr>\n",
       "  </tbody>\n",
       "</table>\n",
       "</div>"
      ],
      "text/plain": [
       "      user_id merchant_id  order_amount            order_id  promo_amount  \\\n",
       "0  5016427010  1496726697          4000  100166017603254865             0   \n",
       "1  5016427010  1496726697          2360  100166016103392474             0   \n",
       "\n",
       "  promo_type        created_time  is_premium_user last_trx_date  \n",
       "0   NO_PROMO 2018-11-01 12:59:05                1    2019-02-28  \n",
       "1   NO_PROMO 2018-11-09 10:13:21                1    2019-02-28  "
      ]
     },
     "execution_count": 20,
     "metadata": {},
     "output_type": "execute_result"
    }
   ],
   "source": [
    "df_test_merged = df_order.merge(df_user, on=\"user_id\", how=\"inner\")\n",
    "df_test_merged = df_test_merged.merge(df_test, on=[\"user_id\"], how=\"inner\")\n",
    "\n",
    "df_test_merged.head(2)"
   ]
  },
  {
   "cell_type": "code",
   "execution_count": 21,
   "metadata": {},
   "outputs": [
    {
     "data": {
      "text/html": [
       "<div>\n",
       "<style scoped>\n",
       "    .dataframe tbody tr th:only-of-type {\n",
       "        vertical-align: middle;\n",
       "    }\n",
       "\n",
       "    .dataframe tbody tr th {\n",
       "        vertical-align: top;\n",
       "    }\n",
       "\n",
       "    .dataframe thead th {\n",
       "        text-align: right;\n",
       "    }\n",
       "</style>\n",
       "<table border=\"1\" class=\"dataframe\">\n",
       "  <thead>\n",
       "    <tr style=\"text-align: right;\">\n",
       "      <th></th>\n",
       "      <th>user_id</th>\n",
       "      <th>merchant_id</th>\n",
       "      <th>order_amount</th>\n",
       "      <th>order_id</th>\n",
       "      <th>promo_amount</th>\n",
       "      <th>promo_type</th>\n",
       "      <th>created_time</th>\n",
       "      <th>is_premium_user</th>\n",
       "      <th>last_trx_date</th>\n",
       "      <th>churn</th>\n",
       "    </tr>\n",
       "  </thead>\n",
       "  <tbody>\n",
       "    <tr>\n",
       "      <th>0</th>\n",
       "      <td>5016427010</td>\n",
       "      <td>1496726697</td>\n",
       "      <td>4000</td>\n",
       "      <td>100166017603254865</td>\n",
       "      <td>0</td>\n",
       "      <td>NO_PROMO</td>\n",
       "      <td>2018-11-01 12:59:05</td>\n",
       "      <td>1</td>\n",
       "      <td>2019-02-28</td>\n",
       "      <td>0</td>\n",
       "    </tr>\n",
       "    <tr>\n",
       "      <th>1</th>\n",
       "      <td>5016427010</td>\n",
       "      <td>1496726697</td>\n",
       "      <td>2360</td>\n",
       "      <td>100166016103392474</td>\n",
       "      <td>0</td>\n",
       "      <td>NO_PROMO</td>\n",
       "      <td>2018-11-09 10:13:21</td>\n",
       "      <td>1</td>\n",
       "      <td>2019-02-28</td>\n",
       "      <td>0</td>\n",
       "    </tr>\n",
       "  </tbody>\n",
       "</table>\n",
       "</div>"
      ],
      "text/plain": [
       "      user_id merchant_id  order_amount            order_id  promo_amount  \\\n",
       "0  5016427010  1496726697          4000  100166017603254865             0   \n",
       "1  5016427010  1496726697          2360  100166016103392474             0   \n",
       "\n",
       "  promo_type        created_time  is_premium_user last_trx_date  churn  \n",
       "0   NO_PROMO 2018-11-01 12:59:05                1    2019-02-28      0  \n",
       "1   NO_PROMO 2018-11-09 10:13:21                1    2019-02-28      0  "
      ]
     },
     "execution_count": 21,
     "metadata": {},
     "output_type": "execute_result"
    }
   ],
   "source": [
    "# Set the attrition cutoff date to February 9th, 2019 (20 Days before last date, 1st March)\n",
    "attrition_cutoff_date = pd.to_datetime('2019-02-09')\n",
    "\n",
    "# Create churn labels\n",
    "df_test_merged['churn'] = (df_test_merged['last_trx_date'] < attrition_cutoff_date)\n",
    "\n",
    "# Convert boolean churn labels to 1 (churned) and 0 (not churned)\n",
    "df_test_merged['churn'] = df_test_merged['churn'].astype(int)\n",
    "df_test_merged.head(2)"
   ]
  },
  {
   "cell_type": "markdown",
   "metadata": {},
   "source": [
    "## Model Training & Evaluation"
   ]
  },
  {
   "cell_type": "code",
   "execution_count": 22,
   "metadata": {},
   "outputs": [],
   "source": [
    "# Define categorical features\n",
    "cat_features = [\"promo_type\", \"is_premium_user\"]"
   ]
  },
  {
   "cell_type": "markdown",
   "metadata": {},
   "source": [
    "### Model 1: Include all attributes"
   ]
  },
  {
   "cell_type": "code",
   "execution_count": 41,
   "metadata": {},
   "outputs": [],
   "source": [
    "# Split data for training with train_test_split\n",
    "X_train, X_test, y_train, y_test = train_test_split(X_data, y_label, test_size=0.4, random_state=42)"
   ]
  },
  {
   "cell_type": "code",
   "execution_count": 42,
   "metadata": {},
   "outputs": [
    {
     "name": "stdout",
     "output_type": "stream",
     "text": [
      "0:\ttest: 1.0000000\tbest: 1.0000000 (0)\ttotal: 29.2ms\tremaining: 5.8s\n",
      "50:\ttest: 1.0000000\tbest: 1.0000000 (0)\ttotal: 2.29s\tremaining: 6.67s\n",
      "100:\ttest: 1.0000000\tbest: 1.0000000 (0)\ttotal: 4.48s\tremaining: 4.39s\n",
      "150:\ttest: 1.0000000\tbest: 1.0000000 (0)\ttotal: 6.48s\tremaining: 2.1s\n",
      "199:\ttest: 1.0000000\tbest: 1.0000000 (0)\ttotal: 8.23s\tremaining: 0us\n",
      "\n",
      "bestTest = 1\n",
      "bestIteration = 0\n",
      "\n",
      "Shrink model to first 1 iterations.\n"
     ]
    },
    {
     "data": {
      "text/plain": [
       "<catboost.core.CatBoostClassifier at 0x116da406f50>"
      ]
     },
     "execution_count": 42,
     "metadata": {},
     "output_type": "execute_result"
    }
   ],
   "source": [
    "# Initialize and train the CatBoost classifier with Gini metric\n",
    "model_1 = CatBoostClassifier(iterations=200, depth=6, learning_rate=0.1, eval_metric='NormalizedGini', verbose=50)\n",
    "model_1.fit(\n",
    "    X_train, \n",
    "    y_train, \n",
    "    eval_set=(X_test, y_test),\n",
    "    cat_features=cat_features\n",
    ")"
   ]
  },
  {
   "cell_type": "code",
   "execution_count": 43,
   "metadata": {},
   "outputs": [
    {
     "name": "stdout",
     "output_type": "stream",
     "text": [
      "Model 1 Evaluation\n",
      "Accuracy: 1.0\n",
      "\n",
      "Confusion Matrix:\n",
      " [[48014     0]\n",
      " [    0  5638]]\n",
      "\n",
      "Classification Report:\n",
      "               precision    recall  f1-score   support\n",
      "\n",
      "           0       1.00      1.00      1.00     48014\n",
      "           1       1.00      1.00      1.00      5638\n",
      "\n",
      "    accuracy                           1.00     53652\n",
      "   macro avg       1.00      1.00      1.00     53652\n",
      "weighted avg       1.00      1.00      1.00     53652\n",
      "\n"
     ]
    }
   ],
   "source": [
    "# Evaluate the model 1\n",
    "y_pred_1 = model_1.predict(X_test)\n",
    "accuracy = accuracy_score(y_test, y_pred_1)\n",
    "conf_matrix = confusion_matrix(y_test, y_pred_1)\n",
    "classification_rep = classification_report(y_test, y_pred_1)\n",
    "\n",
    "print('Model 1 Evaluation')\n",
    "print(\"Accuracy:\", accuracy)\n",
    "print(\"\\nConfusion Matrix:\\n\", conf_matrix)\n",
    "print(\"\\nClassification Report:\\n\", classification_rep)"
   ]
  },
  {
   "cell_type": "markdown",
   "metadata": {},
   "source": [
    "### Model 2: Trained without last_transaction_date column"
   ]
  },
  {
   "cell_type": "code",
   "execution_count": 44,
   "metadata": {},
   "outputs": [],
   "source": [
    "# Split data for training with train_test_split\n",
    "X_train, X_test, y_train, y_test = train_test_split(X_data.iloc[:,:-1], y_label, test_size=0.4, random_state=42)"
   ]
  },
  {
   "cell_type": "code",
   "execution_count": 45,
   "metadata": {},
   "outputs": [
    {
     "name": "stdout",
     "output_type": "stream",
     "text": [
      "0:\ttest: 0.4240327\tbest: 0.4240327 (0)\ttotal: 50.5ms\tremaining: 10s\n",
      "50:\ttest: 0.8380962\tbest: 0.8380962 (50)\ttotal: 2.58s\tremaining: 7.54s\n",
      "100:\ttest: 0.9458821\tbest: 0.9458821 (100)\ttotal: 5.08s\tremaining: 4.98s\n",
      "150:\ttest: 0.9723405\tbest: 0.9723405 (150)\ttotal: 7.73s\tremaining: 2.51s\n",
      "199:\ttest: 0.9835593\tbest: 0.9835593 (199)\ttotal: 10.3s\tremaining: 0us\n",
      "\n",
      "bestTest = 0.983559273\n",
      "bestIteration = 199\n",
      "\n"
     ]
    },
    {
     "data": {
      "text/plain": [
       "<catboost.core.CatBoostClassifier at 0x116dd593510>"
      ]
     },
     "execution_count": 45,
     "metadata": {},
     "output_type": "execute_result"
    }
   ],
   "source": [
    "# Initialize and train the CatBoost classifier with Gini metric\n",
    "model_2 = CatBoostClassifier(iterations=200, depth=6, learning_rate=0.1, eval_metric='NormalizedGini', verbose=50)\n",
    "model_2.fit(\n",
    "    X_train, \n",
    "    y_train, \n",
    "    eval_set=(X_test, y_test),\n",
    "    cat_features=cat_features\n",
    ")"
   ]
  },
  {
   "cell_type": "code",
   "execution_count": 46,
   "metadata": {},
   "outputs": [
    {
     "name": "stdout",
     "output_type": "stream",
     "text": [
      "Model 2 Evaluation\n",
      "Accuracy: 0.9726757623201372\n",
      "\n",
      "Confusion Matrix:\n",
      " [[47943    71]\n",
      " [ 1395  4243]]\n",
      "\n",
      "Classification Report:\n",
      "               precision    recall  f1-score   support\n",
      "\n",
      "           0       0.97      1.00      0.98     48014\n",
      "           1       0.98      0.75      0.85      5638\n",
      "\n",
      "    accuracy                           0.97     53652\n",
      "   macro avg       0.98      0.88      0.92     53652\n",
      "weighted avg       0.97      0.97      0.97     53652\n",
      "\n"
     ]
    }
   ],
   "source": [
    "# Evaluate the model 2\n",
    "y_pred_1 = model_2.predict(X_test)\n",
    "accuracy = accuracy_score(y_test, y_pred_1)\n",
    "conf_matrix = confusion_matrix(y_test, y_pred_1)\n",
    "classification_rep = classification_report(y_test, y_pred_1)\n",
    "\n",
    "print('Model 2 Evaluation')\n",
    "print(\"Accuracy:\", accuracy)\n",
    "print(\"\\nConfusion Matrix:\\n\", conf_matrix)\n",
    "print(\"\\nClassification Report:\\n\", classification_rep)"
   ]
  },
  {
   "cell_type": "markdown",
   "metadata": {},
   "source": [
    "## Model Analysis"
   ]
  },
  {
   "cell_type": "markdown",
   "metadata": {},
   "source": [
    "### Calculate GINI Score with the Test Data"
   ]
  },
  {
   "cell_type": "code",
   "execution_count": 29,
   "metadata": {},
   "outputs": [
    {
     "data": {
      "text/plain": [
       "0         0\n",
       "1         0\n",
       "2         0\n",
       "3         0\n",
       "4         0\n",
       "         ..\n",
       "134123    1\n",
       "134124    1\n",
       "134125    1\n",
       "134126    0\n",
       "134127    0\n",
       "Name: churn, Length: 134128, dtype: int32"
      ]
     },
     "execution_count": 29,
     "metadata": {},
     "output_type": "execute_result"
    }
   ],
   "source": [
    "# get test label\n",
    "y_test_data = df_test_merged['churn']\n",
    "y_test_data"
   ]
  },
  {
   "cell_type": "markdown",
   "metadata": {},
   "source": [
    "#### Model 1: Trained with all attributes"
   ]
  },
  {
   "cell_type": "code",
   "execution_count": 30,
   "metadata": {},
   "outputs": [
    {
     "data": {
      "text/plain": [
       "array([0.26582401, 0.26582401, 0.26582401, ..., 0.69076952, 0.26582401,\n",
       "       0.27696503])"
      ]
     },
     "execution_count": 30,
     "metadata": {},
     "output_type": "execute_result"
    }
   ],
   "source": [
    "# Make probability predictions on the testing data\n",
    "y_pred_proba = model_1.predict_proba(df_test_merged.iloc[:,:-1])[:, 1]\n",
    "y_pred_proba"
   ]
  },
  {
   "cell_type": "code",
   "execution_count": 31,
   "metadata": {},
   "outputs": [
    {
     "name": "stdout",
     "output_type": "stream",
     "text": [
      "Model 1 | Gini Score: 0.35\n"
     ]
    }
   ],
   "source": [
    "gini_score = 2 * roc_auc_score(y_test_data, y_pred_proba) - 1\n",
    "print(f'Model 1 | Gini Score: {gini_score:.2f}')"
   ]
  },
  {
   "cell_type": "markdown",
   "metadata": {},
   "source": [
    "#### Model 2: Trained without last_transaction_date column"
   ]
  },
  {
   "cell_type": "code",
   "execution_count": 32,
   "metadata": {},
   "outputs": [
    {
     "data": {
      "text/plain": [
       "array([0.88098699, 0.88166355, 0.88166355, ..., 0.896371  , 0.74754868,\n",
       "       0.54512342])"
      ]
     },
     "execution_count": 32,
     "metadata": {},
     "output_type": "execute_result"
    }
   ],
   "source": [
    "# Make probability predictions on the testing data\n",
    "y_pred_proba = model_2.predict_proba(df_test_merged.iloc[:,:-2])[:, 1]\n",
    "y_pred_proba"
   ]
  },
  {
   "cell_type": "code",
   "execution_count": 33,
   "metadata": {},
   "outputs": [
    {
     "name": "stdout",
     "output_type": "stream",
     "text": [
      "Model 2 | Gini Score: 0.35\n"
     ]
    }
   ],
   "source": [
    "gini_score = 2 * roc_auc_score(y_test_data, y_pred_proba) - 1\n",
    "print(f'Model 2 | Gini Score: {gini_score:.2f}')"
   ]
  },
  {
   "cell_type": "markdown",
   "metadata": {},
   "source": [
    "### ROC Curve"
   ]
  },
  {
   "cell_type": "code",
   "execution_count": 34,
   "metadata": {},
   "outputs": [
    {
     "data": {
      "text/html": [
       "<div>\n",
       "<style scoped>\n",
       "    .dataframe tbody tr th:only-of-type {\n",
       "        vertical-align: middle;\n",
       "    }\n",
       "\n",
       "    .dataframe tbody tr th {\n",
       "        vertical-align: top;\n",
       "    }\n",
       "\n",
       "    .dataframe thead th {\n",
       "        text-align: right;\n",
       "    }\n",
       "</style>\n",
       "<table border=\"1\" class=\"dataframe\">\n",
       "  <thead>\n",
       "    <tr style=\"text-align: right;\">\n",
       "      <th></th>\n",
       "      <th>user_id</th>\n",
       "      <th>merchant_id</th>\n",
       "      <th>order_amount</th>\n",
       "      <th>order_id</th>\n",
       "      <th>promo_amount</th>\n",
       "      <th>promo_type</th>\n",
       "      <th>created_time</th>\n",
       "      <th>is_premium_user</th>\n",
       "      <th>last_trx_date</th>\n",
       "    </tr>\n",
       "  </thead>\n",
       "  <tbody>\n",
       "    <tr>\n",
       "      <th>0</th>\n",
       "      <td>5016427010</td>\n",
       "      <td>1496726697</td>\n",
       "      <td>4000</td>\n",
       "      <td>100166017603254865</td>\n",
       "      <td>0</td>\n",
       "      <td>NO_PROMO</td>\n",
       "      <td>2018-11-01 12:59:05</td>\n",
       "      <td>1</td>\n",
       "      <td>2019-02-28</td>\n",
       "    </tr>\n",
       "    <tr>\n",
       "      <th>1</th>\n",
       "      <td>5016427010</td>\n",
       "      <td>1496726697</td>\n",
       "      <td>2360</td>\n",
       "      <td>100166016103392474</td>\n",
       "      <td>0</td>\n",
       "      <td>NO_PROMO</td>\n",
       "      <td>2018-11-09 10:13:21</td>\n",
       "      <td>1</td>\n",
       "      <td>2019-02-28</td>\n",
       "    </tr>\n",
       "    <tr>\n",
       "      <th>2</th>\n",
       "      <td>5016427010</td>\n",
       "      <td>1496726697</td>\n",
       "      <td>4320</td>\n",
       "      <td>100166016603432241</td>\n",
       "      <td>0</td>\n",
       "      <td>NO_PROMO</td>\n",
       "      <td>2018-11-11 15:45:03</td>\n",
       "      <td>1</td>\n",
       "      <td>2019-02-28</td>\n",
       "    </tr>\n",
       "    <tr>\n",
       "      <th>3</th>\n",
       "      <td>5016427010</td>\n",
       "      <td>1496726697</td>\n",
       "      <td>4320</td>\n",
       "      <td>100166012503438874</td>\n",
       "      <td>0</td>\n",
       "      <td>NO_PROMO</td>\n",
       "      <td>2018-11-12 09:07:45</td>\n",
       "      <td>1</td>\n",
       "      <td>2019-02-28</td>\n",
       "    </tr>\n",
       "    <tr>\n",
       "      <th>4</th>\n",
       "      <td>5016427010</td>\n",
       "      <td>1496726697</td>\n",
       "      <td>2360</td>\n",
       "      <td>100166012703562028</td>\n",
       "      <td>0</td>\n",
       "      <td>NO_PROMO</td>\n",
       "      <td>2018-11-20 06:50:15</td>\n",
       "      <td>1</td>\n",
       "      <td>2019-02-28</td>\n",
       "    </tr>\n",
       "    <tr>\n",
       "      <th>...</th>\n",
       "      <td>...</td>\n",
       "      <td>...</td>\n",
       "      <td>...</td>\n",
       "      <td>...</td>\n",
       "      <td>...</td>\n",
       "      <td>...</td>\n",
       "      <td>...</td>\n",
       "      <td>...</td>\n",
       "      <td>...</td>\n",
       "    </tr>\n",
       "    <tr>\n",
       "      <th>134123</th>\n",
       "      <td>3822663073</td>\n",
       "      <td>3205580255</td>\n",
       "      <td>84800</td>\n",
       "      <td>100166071804179054</td>\n",
       "      <td>0</td>\n",
       "      <td>NO_PROMO</td>\n",
       "      <td>2018-12-29 15:28:18</td>\n",
       "      <td>1</td>\n",
       "      <td>2018-12-29</td>\n",
       "    </tr>\n",
       "    <tr>\n",
       "      <th>134124</th>\n",
       "      <td>3413318951</td>\n",
       "      <td>2453461191</td>\n",
       "      <td>4240</td>\n",
       "      <td>100166959704709931</td>\n",
       "      <td>0</td>\n",
       "      <td>NO_PROMO</td>\n",
       "      <td>2019-01-29 13:22:33</td>\n",
       "      <td>1</td>\n",
       "      <td>2019-01-29</td>\n",
       "    </tr>\n",
       "    <tr>\n",
       "      <th>134125</th>\n",
       "      <td>3716160905</td>\n",
       "      <td>5648450834</td>\n",
       "      <td>114960</td>\n",
       "      <td>100166907803389026</td>\n",
       "      <td>59995</td>\n",
       "      <td>COUPON</td>\n",
       "      <td>2018-11-11 10:22:00</td>\n",
       "      <td>0</td>\n",
       "      <td>2018-11-11</td>\n",
       "    </tr>\n",
       "    <tr>\n",
       "      <th>134126</th>\n",
       "      <td>3947828449</td>\n",
       "      <td>3205580255</td>\n",
       "      <td>28400</td>\n",
       "      <td>100166448303854814</td>\n",
       "      <td>0</td>\n",
       "      <td>NO_PROMO</td>\n",
       "      <td>2018-12-12 14:00:19</td>\n",
       "      <td>1</td>\n",
       "      <td>2019-02-10</td>\n",
       "    </tr>\n",
       "    <tr>\n",
       "      <th>134127</th>\n",
       "      <td>3844789348</td>\n",
       "      <td>3205580255</td>\n",
       "      <td>30000</td>\n",
       "      <td>100166340303742934</td>\n",
       "      <td>0</td>\n",
       "      <td>NO_PROMO</td>\n",
       "      <td>2018-12-05 15:28:25</td>\n",
       "      <td>0</td>\n",
       "      <td>2019-02-28</td>\n",
       "    </tr>\n",
       "  </tbody>\n",
       "</table>\n",
       "<p>134128 rows × 9 columns</p>\n",
       "</div>"
      ],
      "text/plain": [
       "           user_id merchant_id  order_amount            order_id  \\\n",
       "0       5016427010  1496726697          4000  100166017603254865   \n",
       "1       5016427010  1496726697          2360  100166016103392474   \n",
       "2       5016427010  1496726697          4320  100166016603432241   \n",
       "3       5016427010  1496726697          4320  100166012503438874   \n",
       "4       5016427010  1496726697          2360  100166012703562028   \n",
       "...            ...         ...           ...                 ...   \n",
       "134123  3822663073  3205580255         84800  100166071804179054   \n",
       "134124  3413318951  2453461191          4240  100166959704709931   \n",
       "134125  3716160905  5648450834        114960  100166907803389026   \n",
       "134126  3947828449  3205580255         28400  100166448303854814   \n",
       "134127  3844789348  3205580255         30000  100166340303742934   \n",
       "\n",
       "        promo_amount promo_type        created_time  is_premium_user  \\\n",
       "0                  0   NO_PROMO 2018-11-01 12:59:05                1   \n",
       "1                  0   NO_PROMO 2018-11-09 10:13:21                1   \n",
       "2                  0   NO_PROMO 2018-11-11 15:45:03                1   \n",
       "3                  0   NO_PROMO 2018-11-12 09:07:45                1   \n",
       "4                  0   NO_PROMO 2018-11-20 06:50:15                1   \n",
       "...              ...        ...                 ...              ...   \n",
       "134123             0   NO_PROMO 2018-12-29 15:28:18                1   \n",
       "134124             0   NO_PROMO 2019-01-29 13:22:33                1   \n",
       "134125         59995     COUPON 2018-11-11 10:22:00                0   \n",
       "134126             0   NO_PROMO 2018-12-12 14:00:19                1   \n",
       "134127             0   NO_PROMO 2018-12-05 15:28:25                0   \n",
       "\n",
       "       last_trx_date  \n",
       "0         2019-02-28  \n",
       "1         2019-02-28  \n",
       "2         2019-02-28  \n",
       "3         2019-02-28  \n",
       "4         2019-02-28  \n",
       "...              ...  \n",
       "134123    2018-12-29  \n",
       "134124    2019-01-29  \n",
       "134125    2018-11-11  \n",
       "134126    2019-02-10  \n",
       "134127    2019-02-28  \n",
       "\n",
       "[134128 rows x 9 columns]"
      ]
     },
     "execution_count": 34,
     "metadata": {},
     "output_type": "execute_result"
    }
   ],
   "source": [
    "# exclude label column in test data\n",
    "df_test_all_attr = df_test_merged.iloc[:,:-1]\n",
    "df_test_all_attr"
   ]
  },
  {
   "cell_type": "markdown",
   "metadata": {},
   "source": [
    "#### Model 1: Include all attribute"
   ]
  },
  {
   "cell_type": "code",
   "execution_count": 35,
   "metadata": {},
   "outputs": [],
   "source": [
    "y_pred = model_1.predict(df_test_all_attr)\n",
    "fpr, tpr, thresholds = roc_curve(y_test_data, y_pred)\n",
    "roc_auc = roc_auc_score(y_test_data, y_pred)"
   ]
  },
  {
   "cell_type": "code",
   "execution_count": 36,
   "metadata": {},
   "outputs": [
    {
     "data": {
      "image/png": "[encoded data removed]",
      "text/plain": [
       "<Figure size 800x600 with 1 Axes>"
      ]
     },
     "metadata": {},
     "output_type": "display_data"
    }
   ],
   "source": [
    "plt.figure(figsize=(8, 6))\n",
    "plt.plot(fpr, tpr, color='darkorange', lw=2, label='ROC curve (AUC = {:.2f})'.format(roc_auc))\n",
    "plt.plot([0, 1], [0, 1], color='navy', lw=2, linestyle='--')\n",
    "plt.xlim([0.0, 1.0])\n",
    "plt.ylim([0.0, 1.05])\n",
    "plt.xlabel('False Positive Rate')\n",
    "plt.ylabel('True Positive Rate')\n",
    "plt.title('Model 1: ROC Curve')\n",
    "plt.legend(loc='lower right')\n",
    "plt.show()"
   ]
  },
  {
   "cell_type": "markdown",
   "metadata": {},
   "source": [
    "#### Model 2: Trained without last_transaction_date column"
   ]
  },
  {
   "cell_type": "code",
   "execution_count": 37,
   "metadata": {},
   "outputs": [],
   "source": [
    "y_pred = model_2.predict(df_test_all_attr)\n",
    "fpr, tpr, thresholds = roc_curve(y_test_data, y_pred)\n",
    "roc_auc = roc_auc_score(y_test_data, y_pred)"
   ]
  },
  {
   "cell_type": "code",
   "execution_count": 38,
   "metadata": {},
   "outputs": [
    {
     "data": {
      "image/png": "[encoded data removed]",
      "text/plain": [
       "<Figure size 800x600 with 1 Axes>"
      ]
     },
     "metadata": {},
     "output_type": "display_data"
    }
   ],
   "source": [
    "plt.figure(figsize=(8, 6))\n",
    "plt.plot(fpr, tpr, color='darkorange', lw=2, label='ROC curve (AUC = {:.2f})'.format(roc_auc))\n",
    "plt.plot([0, 1], [0, 1], color='navy', lw=2, linestyle='--')\n",
    "plt.xlim([0.0, 1.0])\n",
    "plt.ylim([0.0, 1.05])\n",
    "plt.xlabel('False Positive Rate')\n",
    "plt.ylabel('True Positive Rate')\n",
    "plt.title('Model 2:ROC Curve')\n",
    "plt.legend(loc='lower right')\n",
    "plt.show()"
   ]
  },
  {
   "cell_type": "markdown",
   "metadata": {},
   "source": [
    "### Feature Importance"
   ]
  },
  {
   "cell_type": "markdown",
   "metadata": {},
   "source": [
    "#### Model 1: Include all attributes"
   ]
  },
  {
   "cell_type": "code",
   "execution_count": 39,
   "metadata": {},
   "outputs": [
    {
     "data": {
      "image/png": "[encoded data removed]",
      "text/plain": [
       "<Figure size 1000x600 with 1 Axes>"
      ]
     },
     "metadata": {},
     "output_type": "display_data"
    }
   ],
   "source": [
    "# Get and plot feature importance\n",
    "feature_importance = model_1.get_feature_importance(type='FeatureImportance')\n",
    "feature_names = df_test_all_attr.columns  # Replace with your feature names\n",
    "plt.figure(figsize=(10, 6))\n",
    "plt.barh(feature_names, feature_importance, align='center')\n",
    "plt.xlabel('Feature Importance')\n",
    "plt.title('Model 1:Feature Importance Plot')\n",
    "plt.show()"
   ]
  },
  {
   "cell_type": "markdown",
   "metadata": {},
   "source": [
    "#### Model 2: Trained without last_transaction_date column"
   ]
  },
  {
   "cell_type": "code",
   "execution_count": 40,
   "metadata": {},
   "outputs": [
    {
     "data": {
      "image/png": "[encoded data removed]",
      "text/plain": [
       "<Figure size 1000x600 with 1 Axes>"
      ]
     },
     "metadata": {},
     "output_type": "display_data"
    }
   ],
   "source": [
    "# Get and plot feature importance\n",
    "feature_importance = model_2.get_feature_importance(type='FeatureImportance')\n",
    "feature_names = df_test_all_attr.iloc[:,:-1].columns  # Replace with your feature names\n",
    "plt.figure(figsize=(10, 6))\n",
    "plt.barh(feature_names, feature_importance, align='center')\n",
    "plt.xlabel('Feature Importance')\n",
    "plt.title('Model 2:Feature Importance Plot')\n",
    "plt.show()"
   ]
  },
  {
   "cell_type": "code",
   "execution_count": null,
   "metadata": {},
   "outputs": [],
   "source": []
  }
 ],
 "metadata": {
  "kernelspec": {
   "display_name": "base",
   "language": "python",
   "name": "python3"
  },
  "language_info": {
   "codemirror_mode": {
    "name": "ipython",
    "version": 3
   },
   "file_extension": ".py",
   "mimetype": "text/x-python",
   "name": "python",
   "nbconvert_exporter": "python",
   "pygments_lexer": "ipython3",
   "version": "3.11.4"
  },
  "orig_nbformat": 4
 },
 "nbformat": 4,
 "nbformat_minor": 2
}
